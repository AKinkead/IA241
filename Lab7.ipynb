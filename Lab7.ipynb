{
 "cells": [
  {
   "cell_type": "markdown",
   "metadata": {},
   "source": [
    "# Question 1"
   ]
  },
  {
   "cell_type": "markdown",
   "metadata": {},
   "source": [
    "Company: NC4\n",
    "Description: Entry level analyst in an international monitoring center\n",
    "[job website](https://www.indeed.com/cmp/NC4/jobs/Intelligence-Analyst-63198433d1cf563f?sjdu=QwrRXKrqZ3CNX5W-O9jEvShgg173eaGcqumhSWKwuDksYOkjgyFqrDMUWoB3VpBovFKPbFNPRD9jdmWu02ALGEQ5gTHecRETGIXzZQdjmjM&tk=1d5un2nt350kn802&adid=6100457&vjs=3)"
   ]
  },
  {
   "cell_type": "code",
   "execution_count": 1,
   "metadata": {},
   "outputs": [
    {
     "name": "stdout",
     "output_type": "stream",
     "text": [
      "Home\n",
      "\n",
      "\n",
      "Intelligence Analyst - Entry Level\n",
      "NC4\n",
      "-\n",
      "Merrifield, VA\n",
      "\n",
      "\n",
      "NC4\n",
      "\n",
      "\n",
      "General Purpose of Intelligence Analyst Role: \n",
      "As an entry-level domestic Intelligence Analyst, you will work in one of NC4’s International Monitoring Centers (NIMC) in support of the NC4 Risk Center™ product. Our centers provide critical information—24 hours a day, 365 days a year—to NC4’s diverse client base. In the NIMC, Intelligence Analysts monitor thousands of sources to provide clients with real-time intelligence on natural disasters, fires, terrorist incidents, civil unrest, transportation disruptions, and other incidents which have the potential to impact domestic business continuity, corporate security, travel management, logistics, or government operations. Current openings for entry level Intelligence Analysts are for our night shift roles beginning at 7 PM ET and ending at 7 AM ET. Intelligence Analysts typically work 15 days a month, on a 3-to-5-days-on, 3-to-5-days-off rotation schedule which includes some weekends and holidays.\n",
      "\n",
      "Essential Duties and Responsibilities of Intelligence Analyst: \n",
      "Quickly assessing and filtering incident information from a variety of sources\n",
      "Geo-locating where an incident is taking place using mapping software\n",
      "Writing accurate, concise initial and follow-up alerts that are sent out to clients\n",
      "Conducting open-source research on all-hazards incidents\n",
      "Professionally responding to customer feedback and inquiries\n",
      "\n",
      "Key Competencies of Intelligence Analyst: \n",
      "Ability to make independent decisions within a broad procedural framework\n",
      "Ability to multi-task and meet short-term deadlines\n",
      "Be able to contribute to and thrive in a collaborative team environment\n",
      "Strong organizational and follow up skills.\n",
      "Self-sufficient, highly motivated with desire to learn new proficiencies.\n",
      "Ability to thrive in a fast-paced work environment with consistency and reliability\n",
      "\n",
      "Required Qualifications: \n",
      "Bachelor’s Degree or High School Diploma and a minimum of three years of work experience in the writing/research based/emergency management field.\n",
      "Superior written and verbal communication skills in English\n",
      "Strong PC and internet research skills\n",
      "Strong attention to detail and accuracy\n",
      "Knowledge of and interest in world affairs, journalism, or related fields\n",
      "Must have legal right to work in the US\n",
      "\n",
      "Preferred Qualifications: \n",
      "Proficiency in foreign languages\n",
      "Graveyard work experience\n",
      "Previous experience in emergency management, business continuity, corporate security, or related fields\n",
      "Specialized knowledge of security, health, hazmat, meteorology, or other issues which could affect clients’ operations and employee safety\n",
      "Familiarity with foreign-language media sources\n",
      "How to Apply for Intelligence Analyst position: \n",
      "Include a current resume and your salary requirements\n",
      "Must include customized cover letter\n",
      "NO PHONE CALLS!\n",
      "***Applications received without appropriate materials will be disregarded***\n",
      "Job Type: Full-time\n"
     ]
    }
   ],
   "source": [
    "job_ad = open(\"job.txt\")\n",
    "\n",
    "print(job_ad.read())\n",
    "job_ad.close()"
   ]
  },
  {
   "cell_type": "markdown",
   "metadata": {},
   "source": [
    "# Question 2"
   ]
  },
  {
   "cell_type": "code",
   "execution_count": 4,
   "metadata": {},
   "outputs": [
    {
     "name": "stdout",
     "output_type": "stream",
     "text": [
      "and 18\n",
      "to 13\n",
      "of 11\n",
      "in 10\n",
      "a 10\n",
      "Intelligence 9\n",
      "work 6\n",
      "the 5\n",
      "or 5\n",
      "with 4\n",
      "Analyst 3\n",
      "NC4 3\n",
      "Analysts 3\n",
      "sources 3\n",
      "on 3\n",
      "which 3\n",
      "security, 3\n",
      "for 3\n",
      "Ability 3\n",
      "Strong 3\n"
     ]
    }
   ],
   "source": [
    "from collections import Counter\n",
    "with open (\"job.txt\") as job_ad:\n",
    "    job_ad_list = job_ad.read().split()\n",
    "    \n",
    "    counter_result = Counter(job_ad_list)\n",
    "    \n",
    "    for word, count in counter_result.most_common(20):\n",
    "        print(word,count)"
   ]
  },
  {
   "cell_type": "markdown",
   "metadata": {},
   "source": [
    "# Question 3"
   ]
  },
  {
   "cell_type": "code",
   "execution_count": 8,
   "metadata": {},
   "outputs": [],
   "source": [
    "import xlwt\n",
    "from collections import Counter\n",
    "\n",
    "mybook = xlwt.Workbook()\n",
    "sheet = mybook.add_sheet('ad_word_count')\n",
    "i=0\n",
    "sheet.write(0,0,'word')\n",
    "sheet.write(0,1,'count')\n",
    "with open (\"job.txt\") as job_ad:\n",
    "    job_ad_list = job_ad.read().split()\n",
    "    \n",
    "    counter_result = Counter(job_ad_list)\n",
    "    \n",
    "    for word, count in counter_result.most_common(20):\n",
    "        i =i+1\n",
    "        sheet.write(i,0,word)\n",
    "        sheet.write(i,1,count)\n",
    "\n",
    "mybook.save('ad_word_count.xls')"
   ]
  },
  {
   "cell_type": "markdown",
   "metadata": {},
   "source": [
    "# Question 4"
   ]
  },
  {
   "cell_type": "code",
   "execution_count": 15,
   "metadata": {},
   "outputs": [
    {
     "name": "stdout",
     "output_type": "stream",
     "text": [
      "word count\n",
      "and 18.0\n",
      "to 13.0\n",
      "of 11.0\n",
      "in 10.0\n",
      "a 10.0\n",
      "Intelligence 9.0\n",
      "work 6.0\n",
      "the 5.0\n",
      "or 5.0\n",
      "with 4.0\n",
      "Analyst 3.0\n",
      "NC4 3.0\n",
      "Analysts 3.0\n",
      "sources 3.0\n",
      "on 3.0\n",
      "which 3.0\n",
      "security, 3.0\n",
      "for 3.0\n",
      "Ability 3.0\n",
      "Strong 3.0\n"
     ]
    }
   ],
   "source": [
    "import xlrd\n",
    "my_book = xlrd.open_workbook('ad_word_count.xls')\n",
    "my_sheet = my_book.sheet_by_name(\"ad_word_count\")\n",
    "for i in range(my_sheet.nrows):\n",
    "    row = my_sheet.row_values(i)\n",
    "    word, count=row\n",
    "    print (word,count)"
   ]
  },
  {
   "cell_type": "markdown",
   "metadata": {},
   "source": [
    "# Question 5"
   ]
  },
  {
   "cell_type": "markdown",
   "metadata": {},
   "source": [
    "![title](job_ad_tableau.jpg)"
   ]
  },
  {
   "cell_type": "code",
   "execution_count": null,
   "metadata": {},
   "outputs": [],
   "source": []
  }
 ],
 "metadata": {
  "kernelspec": {
   "display_name": "Python 3",
   "language": "python",
   "name": "python3"
  },
  "language_info": {
   "codemirror_mode": {
    "name": "ipython",
    "version": 3
   },
   "file_extension": ".py",
   "mimetype": "text/x-python",
   "name": "python",
   "nbconvert_exporter": "python",
   "pygments_lexer": "ipython3",
   "version": "3.6.5"
  }
 },
 "nbformat": 4,
 "nbformat_minor": 2
}
