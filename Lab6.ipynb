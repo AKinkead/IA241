{
 "cells": [
  {
   "cell_type": "code",
   "execution_count": 12,
   "metadata": {},
   "outputs": [],
   "source": [
    "from urllib import request\n",
    "import json\n",
    "from pprint import pprint\n",
    "\n",
    "import xlwt"
   ]
  },
  {
   "cell_type": "code",
   "execution_count": 13,
   "metadata": {},
   "outputs": [],
   "source": [
    "census_api_key = '2b73102395fadafd3f1617d2069b167dcc60b8b3'"
   ]
  },
  {
   "cell_type": "code",
   "execution_count": 14,
   "metadata": {},
   "outputs": [],
   "source": [
    "url_str = 'https://api.census.gov/data/2017/acs/acs5?get=B01001_001E,B01001_002E,NAME&for=county:*&in=state:51&key='+census_api_key"
   ]
  },
  {
   "cell_type": "code",
   "execution_count": 15,
   "metadata": {},
   "outputs": [
    {
     "name": "stdout",
     "output_type": "stream",
     "text": [
      "https://api.census.gov/data/2017/acs/acs5?get=B01001_001E,B01001_002E,NAME&for=county:*&in=state:51&key=2b73102395fadafd3f1617d2069b167dcc60b8b3\n"
     ]
    }
   ],
   "source": [
    "print(url_str)"
   ]
  },
  {
   "cell_type": "code",
   "execution_count": 16,
   "metadata": {},
   "outputs": [],
   "source": [
    "response = request.urlopen(url_str)\n",
    "html_str = response.read().decode(\"utf-8\")"
   ]
  },
  {
   "cell_type": "markdown",
   "metadata": {},
   "source": [
    "# Step 3"
   ]
  },
  {
   "cell_type": "code",
   "execution_count": 61,
   "metadata": {},
   "outputs": [],
   "source": [
    "book=xlwt.Workbook()\n",
    "sheet=book.add_sheet('va_pop')\n",
    "i=0\n",
    "if html_str:\n",
    "    json_data = json.loads(html_str)\n",
    "    for record in json_data:\n",
    "        total_pop,male_pop,name,state,count_num=record\n",
    "        sheet.write(i,0,total_pop) \n",
    "        sheet.write(i,1,male_pop)\n",
    "        i +=1\n",
    "book.save('population.xls')"
   ]
  },
  {
   "cell_type": "markdown",
   "metadata": {},
   "source": [
    "# Step 4"
   ]
  },
  {
   "cell_type": "code",
   "execution_count": 62,
   "metadata": {},
   "outputs": [
    {
     "name": "stdout",
     "output_type": "stream",
     "text": [
      "134\n"
     ]
    }
   ],
   "source": [
    "import xlrd\n",
    "book=xlrd.open_workbook('population.xls') #file name\n",
    "sheet=book.sheet_by_name('va_pop') #sheet name\n",
    "print(sheet.nrows)"
   ]
  },
  {
   "cell_type": "code",
   "execution_count": 63,
   "metadata": {},
   "outputs": [
    {
     "name": "stdout",
     "output_type": "stream",
     "text": [
      "B01001_001E B01001_002E\n",
      "7022 3437\n",
      "49795 25057\n",
      "28033 13849\n",
      "19213 9387\n",
      "103218 50653\n",
      "12369 6367\n",
      "35265 17341\n",
      "5495 2488\n",
      "29048 14200\n"
     ]
    }
   ],
   "source": [
    "for i in range(10):\n",
    "    row=sheet.row_values(i)\n",
    "    total_pop,male_pop=row\n",
    "    print(total_pop, male_pop)"
   ]
  },
  {
   "cell_type": "markdown",
   "metadata": {},
   "source": [
    "# Step 5"
   ]
  },
  {
   "cell_type": "code",
   "execution_count": 64,
   "metadata": {},
   "outputs": [],
   "source": [
    "from xlutils.copy import copy\n",
    "\n",
    "read_book=xlrd.open_workbook('population.xls')\n",
    "write_book=copy(read_book)\n",
    "write_sheet=write_book.get_sheet(0)\n",
    "\n",
    "num_rows=sheet.nrows\n",
    "    \n",
    "for i in range(num_rows):\n",
    "    row=sheet.row_values(i)\n",
    "    total_pop,male_pop=row\n",
    "    if i==0:\n",
    "        write_sheet.write(i,2,'ratio')\n",
    "    else:\n",
    "        write_sheet.write(i,2, int(male_pop)/int(total_pop))\n",
    "\n",
    "write_book.save('population.xls')"
   ]
  },
  {
   "cell_type": "markdown",
   "metadata": {},
   "source": [
    "# Step 6"
   ]
  },
  {
   "cell_type": "code",
   "execution_count": 65,
   "metadata": {},
   "outputs": [
    {
     "name": "stdout",
     "output_type": "stream",
     "text": [
      "B01001_001E B01001_002E ratio\n",
      "7022 3437 0.48946169182569066\n",
      "49795 25057 0.5032031328446631\n",
      "28033 13849 0.4940248992259123\n",
      "19213 9387 0.488575443709988\n",
      "103218 50653 0.49073804956499834\n",
      "12369 6367 0.5147546285067508\n",
      "35265 17341 0.49173401389479654\n",
      "5495 2488 0.45277525022747955\n",
      "29048 14200 0.488846047920683\n"
     ]
    }
   ],
   "source": [
    "import xlrd\n",
    "book=xlrd.open_workbook('population.xls')\n",
    "sheet=book.sheet_by_name('va_pop')\n",
    "for i in range(10):\n",
    "    row=sheet.row_values(i)\n",
    "    total_pop,male_pop,ratio=row\n",
    "    print(total_pop, male_pop,ratio)"
   ]
  },
  {
   "cell_type": "code",
   "execution_count": null,
   "metadata": {},
   "outputs": [],
   "source": []
  }
 ],
 "metadata": {
  "kernelspec": {
   "display_name": "Python 3",
   "language": "python",
   "name": "python3"
  },
  "language_info": {
   "codemirror_mode": {
    "name": "ipython",
    "version": 3
   },
   "file_extension": ".py",
   "mimetype": "text/x-python",
   "name": "python",
   "nbconvert_exporter": "python",
   "pygments_lexer": "ipython3",
   "version": "3.6.5"
  }
 },
 "nbformat": 4,
 "nbformat_minor": 2
}
