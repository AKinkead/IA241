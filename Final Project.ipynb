{
 "cells": [
  {
   "cell_type": "markdown",
   "metadata": {},
   "source": [
    "# IA 241 Final Project"
   ]
  },
  {
   "cell_type": "markdown",
   "metadata": {},
   "source": [
    "For this project, we found 20 job postings for intelligence analysts using Indeed. We will analyze this data to find commonalities between the posts as well as other calculations relevant to someone searching for a job in this field. Our objective is to understand the major skills and requirements for current IA jobs in order to help prepare for our future careers."
   ]
  },
  {
   "cell_type": "markdown",
   "metadata": {},
   "source": [
    " The data used in our analysis can be found in the following Excel file: <a href='IA_jobs.xlsx'>data</a>"
   ]
  },
  {
   "cell_type": "markdown",
   "metadata": {},
   "source": [
    "First we converted each if the columns of the excel file into their own list"
   ]
  },
  {
   "cell_type": "code",
   "execution_count": 2,
   "metadata": {},
   "outputs": [],
   "source": [
    "import xlrd"
   ]
  },
  {
   "cell_type": "code",
   "execution_count": 3,
   "metadata": {},
   "outputs": [
    {
     "name": "stdout",
     "output_type": "stream",
     "text": [
      "['Intelligence Analyst', 'Intelligence Analyst', 'Intelligence Analyst', 'Intelligence Analyst', 'Legal Intelligence Analyst', 'Intelligence Analyst', 'Intelligence Analyst', 'Intelligence Analyst', 'Intelligence Analyst', 'Threat Intelligence Analyst', 'Intelligence Analyst', 'All Source Intelligence Analyst', 'Global Intelligence Analyst', 'Intelligence Analyst', 'Security Business Analyst', 'Business Intelligence Analyst', 'Intelligence Analyst', 'Intelligence Analyst', 'Counterintelligence Analyst', 'Intelligence Analyst']\n",
      "['NC4', 'Perspecta', 'Northrop Grumman', 'Renaissance Associates', 'LookingGlass Cyber Solutions', 'BAE Systems', 'CACI', 'United States Army', 'Lockheed Martin Corporation', 'Hilton Corporate', 'Everis USA', 'Leidos', 'Securitas Security Services USA', 'AT&T', 'The MIL Corporation', 'Datavision Technologies', 'City of St. Petersburg', 'Advanced Decision Vectors', 'BWM Outcomes', 'GDIT']\n",
      "[43421.0, 43425.0, 43446.0, 43450.0, 43539.0, 43541.0, 43559.0, 43559.0, 43565.0, 43566.0, 43566.0, 43566.0, 43567.0, 43568.0, 43570.0, 43571.0, 43571.0, 43571.0, 43571.0, 43571.0]\n",
      "['California', 'Virginia', 'Virginia', 'New Jersey', 'Virginia', 'Virginia', 'Virginia', 'Virginia', 'Colorado', 'Virginia', 'New York', 'Virginia', 'California', 'Virginia', 'Virginia', 'Florida', 'Florida', 'Washington DC', 'Washington DC', 'Virginia']\n",
      "[40111.0, 60000.0, 65576.0, 50000.0, 52000.0, 72500.0, 73000.0, 20000.0, 62665.0, 69000.0, 80569.0, 75000.0, 75000.0, 63000.0, 65000.0, 50000.0, 44952.0, 65000.0, 80000.0, 58102.0]\n",
      "['Monitor open source domestic/global real-time all-hazard incidents; analyze potential threats and risks and disseminate error free reports to customers, Operate independently and make decisions regarding all aspects of incident reporting in a timely manner, Implement operational processes and procedures; demonstrate advanced analytical and research skills, and display good judgement and discretion in reporting, Manage customer inquiries and interactions in an effective and professional manner, Escalate issues in a time-sensitive manner to the appropriate parties, Maintain consistent and punctual attendance, demonstrate scheduling flexibility to meet operational needs, Understand company’s mission, how our work impacts customers, and model the company principles', 'Perspecta is seeking an experienced Intelligence Analyst to join a unique team at the forefront of defining and delivering the next generation of intelligence community solutions directly into operational organizations. Duties include monitoring and reporting of technical systems, operations, and capabilities and supporting diverse activities addressing hard targets. This position requires strong organizational skills, attention to detail, and demonstrated experience developing and implementing plans, strategies, and approaches supporting targeting activities. The successful candidate will have a strong background in technical collection and experience leading and facilitating cross-IC collaboration events.', \"The Intelligence Analyst 2 will be responsible for providing direct analytic support to a customer team. Building excellent rapport within our teams and with our customers is critical to our success and contributes to our customers' success. We continually look to identify talented, mission-focused analysts with skills in several areas\", 'analyst conducting background investigations and public records research', 'Learn and employ LookingGlass patented technology to identify relevant intelligence collected from the Internet;, Analyze the intelligence identified by LookingGlass technology, based on client-specific criteria, to assemble relevant findings and analysis, Assist in customer care and all production aspects covering the range of assigned duties. Support and/or lead recurring deliverables and touchpoints (ad hoc/daily/weekly/monthly/quarterly and/or annual):, Leverage legal experience to make recommendations to clients and assist in making policy suggestions for internal and external users;, Dedication and willingness to provide support in response to ad hoc threats and periods of increased risk. This may entail on occasion:, Proactive professional development through company trainings, industry certifications and seeking new opportunities to maintain and grow relevant knowledge and skillsets; Support collection enhancement with ongoing and proactive collaboration with Collection Management and the 24x7 Cyber Security Center staff; Identify and communicate improvements to the client delivery process and department productivity.', 'Work a rotating shift schedule (typically 7am to 7pm or 7pm to 7am and is subject to change at any time by the customer), alternating days and nights each month which will include weekends and holidays., Input data accurately, timely exploit FMV collected by sensors on ISR platforms, apply HUMINT and SIGINT information to FMV imagery analysis, and use an electronic light table to exploit NTM imagery in softcopy., Produce imagery-derived graphic products and reports and publish for distribution., Compile intelligence materials for use in briefings to high-level government personnel.', 'While deployed, you will embed with warfighters to assist operational and tactical commanders, their staffs and subordinate units with fusing operations and intelligence information to enhance their effectiveness against threat networks. You will identify and analyze problems, and generate recommended solutions based upon experience working with elements of the DOD, interagency and international partners. Most deployments are 120-180 days in length.', 'Prepare all-source intelligence products to support the combat commander, Assess the significance and reliability of incoming information with current intelligence, Establish and maintain systematic, cross-reference intelligence records and files', 'You will utilize sophisticated analog and digital signal processing and associated equipment, and may conduct search and/or exploitation of data from various sources to prepare operational or technical reports, both written and oral and conduct training in one or more areas of specialization.', \"As the Threat Intelligence Analyst for Incident Response, you will be essential in preparing for, responding to, and remediating information security incidents to ensure anomalous and unauthorized activity is addressed with expediency to protect the Company's information assets and reduce interruptions to business processes as well as conducting investigations into cyber related activities on networks, computers, and servers. \", 'Regularly produce Threat Intelligence Reports, providing detailed analysis on cyber events, including relevant political, economic and geopolitical variables, Provide a forward-looking view of the threat, predicting shifts in adversarial intent, goals and strategic objectives, Act as a subject matter expert for an allocated geographic and/or thematic area, closely following open source and closed intelligence source reporting on associated actor groups (nation-state, criminal, hacktivist and terrorist), incidents and campaigns, Maintain detailed threat actor profiles on adversaries of interest/relevance to the firm, covering tactics, techniques and procedures, intent, goals and strategic objectives, Maintain knowledge of the threat landscape by monitoring open and closed intelligence sources and contribute to quarterly threat landscape briefings, Identify, develop, manage and productively leverage external relationships to enhance intelligence collection efforts, Provide regular written and verbal briefings and presentations for Global Cybersecurity partners and Lines of Businesses up to the senior executive level', 'Leidos is a leader in fulfilling Intelligence Community counterterrorism requirements. We have an exciting opportunity for an Entry-Level All- Source analyst to join a team of professionals in the Northern VA area. We are seeking experienced candidates with active TS/SCI with polygraphs who are able to work alongside IC and military experts. The selected candidate will be responsible for supporting executive level officials with drafting reports, editing high-level reports, and writing short and succinct papers in support of the customer. The All-Source analyst will assist team members with formatting and publishing daily publications.', 'Maintaining composure in dealing with executives, clients and staff in individual and group settings and situations requiring high performance results, May be exposed to stressful situations, Handling and being exposed to sensitive and confidential information, Required ability to handle multiple tasks concurrently, Regular talking and hearing, May be required to work overtime without advance notice, Seeing, hearing, speaking, and writing clearly in order to communicate with client employees and visitors, observe and report incidents, and direct others', 'The successful candidate must be a highly motivated individual with strong analytical skills. The candidate should be self-directed and demonstrate a high degree of creativity in problem solving. Ability to perform data analysis on large datasets is highly desirable. Position performs non-supervisory assignments in support of customer contract and associated deliverables. Will respond to legally compelled requests to ensure quality, accuracy and compliance. Participates in training awareness meetings to gain knowledge and skills in the latest tools and techniques necessary to meet all program deliverables. Comply and be in accordance with all legal and contractual requirements. Job requires the ability to analyze and resolve complex issues where events and situations require in-depth data analysis. Provide detailed reports or presentations with recommendations derived from analysis of customer requested inquiries. Job requires the exercise of good judgment within defined procedures and practices to determine appropriate action. The level of knowledge about programs, concepts, product or customer identity will require incumbents to undergo extensive background investigations to be assigned or hold positions in highly classified programs. Job environment is extremely stressful and requires that deadlines be adhered to at all times without exception. The candidate will be working in an environment where team members will share available 24/7 time. ', 'Provision user accounts and update security controls for the Department’s financial systems, Reconcile user access with documented request forms, Analyze and maintain supporting documentation for separation of duties, Monitor financial systems daily and respond to security or usability issues (Helpdesk Support), Perform annual account certification of security access, Perform logging and monitoring of security access. Provide customer service to agency user community related to systems security, Review application log, Assist in preparation of required data for the annual IT audit', 'Since we are a smaller company, your role will have high visibility within the company as well as with customers. You will be actively working with your team members from different divisions in the company (analysts, developers) and with customers. The work you do will be directly viewed by customers, so attention to detail is very important as well as the ability to juggle multiple ongoing projects without dropping the ball. A typical day might involve working with one customer to reload missing data or troubleshoot their data, helping another customer designing a report, training a third customer over the phone on how to build reports and a delivering a completed dashboard to a fourth customer. Another typical day might just involve putting on your headphones and working on a single project all day.', 'This is professional and technical work conducting detailed research and analysis of confidential intelligence and investigative information relating to criminal activity in order to assist and enhance the effectiveness of law enforcement. Work may include investigating confidential intelligence information such as financial transactions and related business records; compiling, analyzing and disseminating criminal activity information (in the form of bulletins, intelligence reports,etc); coordinating the exchange of interstate and intrastate information pertaining to criminal activity, syndicated criminal movement and terrorism related incidents; and preparing written reports requiring thorough analysis and evaluation of intelligence and investigative information. Work requires intricate knowledge of social media; usage of multiple law enforcement databases; the collection of data from other government sources; and the ability to manipulate large quantities of raw data via spreadsheets or database creation. Work includes providing information to assist operations personnel in the identification of specific crime problems (crime patterns/sprees/series) and suspect leads; forecasting future crime occurrences; developing target profile analyses; furnishing support data to community policing and crime prevention programs; and providing data to support departmental planning activities, deployment planning, resource allocation, and budgeting activities. Work also involves examining existing incident characteristics; identifying modus operandi; and identifying pre-incident indicators and characteristics. Work demands a high level of personal and professional integrity and tenacity to perform complex analysis that assists sensitive and often urgent investigations.', 'Identify, quantify, analyze, and map data issues involving Office of Security (OSY) investigative activities, including performing vetting and validation of data as necessary, Assist OSY staff with basic, sensitive, and complex research and analysis, Perform and document various specified or authorized records checks, request authorized information from internal and external sources, and analyze and integrate resulting data..', 'Assess the foreign intelligence, international terrorist, and technological collection threats directed against DOE personnel, resources, S&T, facilities and programs, Produce CI products for circulation within DOE, and for external dissemination throughout the USIC, Develops liaison contacts within the USIC to further research and analytical objectives and goals of the Program, Works with the Program Director to contribute to the integration of field and headquarters analysis, Makes oral presentations, which convey ideas, facts, conclusions, estimates, and projections to a variety of DOE and USIC personnel, Prepares a variety of written communications and documents, including but not limited to reports, national security studies, and policy recommendations at the direction of the CI management', 'Search, review, segregate and analyze any and all records of interrogations, interviews, statements, and other evidence either provided by or obtained from, e.g.: research or investigation; current and former detainees held by U.S. or coalition forces; investigations conducted outside of the Commissions cases; and discovery, Serve on a privileged basis to counsel litigating military commission cases (i.e., maintain, preserve, and protect attorney work product privilege)']\n",
      "['Bachelor’s Degree or High School Diploma and a minimum of three years of work experience in the writing/research based/emergency management field, Superior written and verbal communication skills in English, Strong PC and internet research skills, Strong attention to detail and accuracy, Knowledge of and interest in world affairs, journalism, or related fields, Must have legal right to work in the US', 'TS/SCI clearance with polygraph, Demonstrated expertise in one or more technical collection domains, Knowledge of customer databases and systems, Conceptual, quantitative, organizational, research, written and verbal communication, sound judgment, problem solving, and independent working skills, Interpersonal and teamwork skills to work with individuals and organizations, to include varying levels and types (Government, Industry, and Academia), Facilitation skills to bring diverse groups together on issues and reach consensus across stakeholders, The ability to perform complex analyses and to communicate the results using accurate, concise, and effective writing and through descriptive and graphical representations, Technical understanding of intelligence community requirements and contract-specific lines, Flexibility in assisting with ad hoc tasks and in adjusting as tasks are re-prioritized.', 'Excellent verbal and written communications skills, Willingness and ability to adapt to changing customer mission requirements as necessary, Northrop Grumman is committed to hiring and retaining a diverse workforce.', 'Experience as an analyst supporting due diligence and business intelligence activities, Proven strong research skills driven by an inquisitive and skeptical mindset, Experience using a variety of public, commercial, or proprietary databases, such as Lexis and Thomson Reuters products, to locate business-related and personal information, The demonstrated ability to synthesize information from different sources to identify relationships of interest and gaps in knowledge, Strong critical thinking, oral and written communication skills are required, Candidates should be highly organized, detail-oriented, and should have the ability to prioritize and reprioritize job tasks independently. Candidates should also be comfortable working under very tight deadlines.', 'MUST HAVE a legal background. A Juris Doctor is not required but experience in the legal field (especially brand, trademark, ICANN dispute processes, and recent changes to cybersecurity laws) is preferred; Advise clients and internal Cyber Security Operation Center on various forum policies and legal grounds for fraudulent site takedowns. This includes an analysis of the reputational risks associated with potential fraudulent site takedowns; Relevant experience in the intelligence, technology, cyber-security fields; Adept in performing online research, OSINT or computer/database searching; Strong written and oral communications skills; comfortable with providing briefings and presentations both in person and online; High degree of experience with some of the following: Social Media Platforms, blogs, IRC, Deep/Darkweb, and message boards; Comfortable working/developing client relationships; Ability to collect, authenticate, validate and document online evidence; Proficient with at least one investigative tool, such as Whois, Ping, Traceroute, etc.; Proficient in MS Office programs; Highly proficient in MS Excel to analyze raw intelligence data to create and produce monthly reports which includes recent trends, high recidivist threat actors, key areas of concerns, and recommendations.', 'Understanding the basic intelligence cycle/process, During high-tempo operations, can relay and articulate information, Can solve routine tasks of limited scope and complexity following standards of procedure, Basic working knowledge of the following software: MS Office including MS Word, MS Excel, and Power Point, Good analytical writing skills, Must be capable of typing 32 WPM without looking at the keyboard., Candidates must possess the ability to accurately discern red, green, blue, and yellow colors on a screen', \"Current Top Secret/Specialized Compartmented Information Security Clearance. More than one year of deployed Intelligence analysis experience within the CENTCOM AOR. You must also possess the ability to effectively communicate both orally and in writing. You should be able to provide daily feedback to the team lead on product development. Be deployable to the required theater of operations, usually conducting periodic travel within CONUS and six-month deployments to OCONUS locations. Willing to work rotating shifts if needed - that may include nights and weekends. Bachelor's degree and more than three years of experience, or an associates degree and five years of experience, or seven years of relevant work experience. We will also consider candidates with four years of directly relevant experience.\", 'Those who want to serve must first take the Armed Services Vocational Aptitude Battery, a series of tests that helps you better understand your strengths and identify which Army jobs are best for you.', 'Basic understanding of how to characterize signal parameters, Ability to perform search functions on technical signals of interest, Ability to prepare reports in support of operational and technical sources.', 'Commitment to learning with an aptitude for quickly grasping new technologies, issues, topics and advances in the cyber security field. This includes a commitment to adapting to new technologies and security controls on the fly., Expertise in cyber threat landscapes, including Advanced Persistent Threats, Cyber Crime and Hacktivism. This includes expertise in the tactics, techniques and procedures applied to a cyber-threat., Specialized skills in operating systems and enterprise platforms such as Windows, Linux/Unix, Mac OS, iOS, Android, Active Directory, .Net framework, Oracle business products and SAP, Good interpersonal, verbal, and written communication skills to successfully interact with clients, Qualitatively/quantitatively assessing security posture based on applied information, Ability to use MS Excel and other tools for statistical analysis purposes', 'Excellent understanding of networking concepts and Information Security, including emerging threats and attack methodologies, Specialist training or skills in one or more of the following: Open Source Intelligence (OSINT) gathering and/or analysis, Social Media Intelligence (SMI/SOCMINT) gathering and/or analysis, Human Intelligence (HUMINT) analysis, Signals Intelligence (SIGINT) analysis, Subject matter expert in one or more of the following areas: regional geographic expertise, thematic (e.g. criminal groups) expertise, corporate intelligence, Significant and detailed threat actor knowledge, Knowledge of Transmission Control Protocol / Internet Protocol (TCP/IP) protocols, Knowledge of common malware and exploit tools/techniques.', 'Relevant exposure (for example: an internship with a government organization) to US foreign policy, national security CT objectives, and the interagency coordination process, Professional writing, editing, and sourcing skills are mandatory in order to be successful in the position, Ability to apply extensive knowledge of grammar, punctuation, and corporate writing standards in order to edit reports, Ability to work with national security classification procedures, Ability to handle multiple tasks and adjust to changing priorities as needed, Strong attention to details is required, Expert level experience working with Microsoft Office products: PowerPoint, Word, & Outlook, TS/SCI with Poly is required', 'Must have a reliable means of communication (i.e., pager or phone), Must have a reliable means of transportation (public or private), Must have the legal right to work in the United States, Must have the ability to speak, read, and write English, Must have a High School Diploma or GED. If not, must be willing to complete the GED program within six months, Must be willing to participate in the Company’s pre-employment screening process, including drug screen and background investigation.', 'Candidate must have excellent verbal and written communication skills and proficiency with the following software: Word, Excel, PowerPoint, Penlink and Geotime. ', 'Must be customer focused and possess the ability to identify issues, analyze, and interpret data and develop solutions to user problems, Must demonstrate a strong analytical, verbal, and written communication skill set to accurately document, report, and present findings, Must demonstrate strong interpersonal skills to effectively interface with all levels of employees, Experience working within a dynamic team environment, Must have the ability to adjust to the fast paced and high volume of work environment, Must be flexible as work requirements shift (on-call, work weekends, and extended hours)', 'Analytical and logical thinker, Ability to multitask and still perform at a high level, Advanced knowledge of Microsoft Excel - Macros, Pivot Tables, etc., Must be flexible and able to take on a wide range of tasks as they come with a positive can-do attitude., Attention to detail is a must, Possess the ability to work well as part of a team and independently., Strong written and verbal communication skills, Ability to use time productively, maximize efficiency, and meet challenging work goals, Ability to take on additional responsibilities as needed as well as determine and manage priorities with minimal guidance., Ability to develop and maintain documentation including policies, procedures, incident reports and knowledge base articles., Needs to be based in Ft Lauderdale area', 'Possess a valid Bachelor’s degree in criminology, criminal justice, or a related field, Possess and maintain a valid Driver License, Be able to organize, communicate and present clear, concise and factual oral and written reports and recommendations, Have considerable knowledge of data research methods, concepts, techniques, principles and practices, Have considerable knowledge of techniques of crime analysis, intelligence gathering, basic statistical methods/techniques and research methodology used in data collection and report presentation, Be proficient in the use of computer software such as Microsoft Office Suite, Adobe Acrobat and GIS applications (such as ESRI, ArcView, Autodesk MapGuide, Microsoft MapPoint, and Google Maps).', 'Develop, implement and/or assist with suspense, workload, and caseload tracking, analysis, and coordination to ensure optimal time management and resource use; and assist with preparing performance metrics, Develop, coordinate, prepare and track internal and external correspondence, data calls and requests; draft memoranda and documents; and prepare and control other communication, including coordinating review by key stakeholders and dissemination; Create, review, and provide various reports and briefing materials; Communicate matters to personnel at all levels, and build and maintain organizational relationships to ensure awareness and effective messaging; Answer and screen telephone calls and electronic mail; manage calendars, schedules meetings, and assist with time and resource management tasks; and assist with compliance requirements; Demonstrate strong customer service skills, and work effectively both independently and as a team member; Establish and maintain records and files, including properly marking and disseminating materials in accordance with law, regulation and policy, and performing appropriate reductions in accordance with general records schedules; Perform other general office duties as assigned; Execute a nondisclosure agreement.', 'Foreign language proficiency, written and spoken (such as Russian, Arabic, Farsi, Hindi, or related languages), is desirable, Must have a minimum of five (5) years of experience in intelligence analysis, which may be a combination of private sector, civil service, or military, Individual must have demonstrated evidence of excellent oral and written communication skills and proven performance delivering high-quality products under sometimes seemingly enormous pressure to meet tight deadlines, Extensive knowledge of CI tradecraft, analytic standards and integrity, methodology and tools is required, Knowledge of adversary methodologies and collection interests is also required, Special expertise, such as area or country specialization, foreign language fluency, emerging science and technology research is desired, The individual must demonstrate direct and current knowledge of the mission, structure, and key intelligence programs of the USIC, to include tactical analysis in support of predicating CI investigations, international political, economic, and military matters as they impact U.S. national security policy and issues, all aspects of the intelligence cycle, and must demonstrate core analytical competencies to include critical thinking skills, strong collaboration skills, and a customer focus to espouse counterintelligence issues with an analysis dimension', 'A core knowledge of basic analytical concepts and techniques, Ability to use established analytical tools and techniques to generate comprehensive products (e.g., reports, assessments, white papers, link charts, and briefings)']\n",
      "[5.0, 5.0, 2.0, 2.0, 8.0, 4.0, 5.0, 0.0, 4.0, 1.0, 6.0, 9.0, 2.0, 4.0, 4.0, 2.0, 5.0, 8.0, 5.0, 3.0]\n",
      "['Bachelors', 'Bachelors', 'Bachelors', 'Bachelors', 'Doctorate', 'Bachelors', 'Associates', 'GED', 'Bachelors', 'Bachelors', 'Bachelors', 'Bachelors', 'GED', 'Bachelors', 'Bachelors', 'Bachelors', 'Bachelors', 'Bachelors', 'Bachelors', 'Bachelors']\n"
     ]
    }
   ],
   "source": [
    "book=xlrd.open_workbook('IA_jobs.xlsx')\n",
    "sheet=book.sheet_by_name(\"Jobs\")\n",
    "\n",
    "title_list = []\n",
    "company_list = []\n",
    "date_list = []\n",
    "location_list = []\n",
    "salary_list = []\n",
    "duties_list = []\n",
    "skills_list = []\n",
    "experience_list = []\n",
    "education_list = []\n",
    "\n",
    "for i in range(sheet.nrows):\n",
    "    title, company,date,location,salary,duties,skills,experience,education,URL=sheet.row_values(i)\n",
    "    if i!=0:\n",
    "        title_list.append(title)\n",
    "        company_list.append(company)\n",
    "        date_list.append(date)\n",
    "        location_list.append(location)\n",
    "        salary_list.append(salary)\n",
    "        duties_list.append(duties)\n",
    "        skills_list.append(skills)\n",
    "        experience_list.append(experience)\n",
    "        education_list.append(education)\n",
    "print(title_list)\n",
    "print(company_list)\n",
    "print(date_list)\n",
    "print(location_list)\n",
    "print(salary_list)\n",
    "print(duties_list)\n",
    "print(skills_list)\n",
    "print(experience_list)\n",
    "print(education_list)"
   ]
  },
  {
   "cell_type": "markdown",
   "metadata": {},
   "source": [
    "# Q 2.1: What are the common job titles?"
   ]
  },
  {
   "cell_type": "code",
   "execution_count": 4,
   "metadata": {},
   "outputs": [
    {
     "name": "stdout",
     "output_type": "stream",
     "text": [
      "Intelligence Analyst 13\n",
      "Legal Intelligence Analyst 1\n",
      "Threat Intelligence Analyst 1\n",
      "All Source Intelligence Analyst 1\n",
      "Global Intelligence Analyst 1\n",
      "Security Business Analyst 1\n",
      "Business Intelligence Analyst 1\n",
      "Counterintelligence Analyst 1\n"
     ]
    }
   ],
   "source": [
    "import xlwt        \n",
    "from collections import Counter        \n",
    "from nltk.corpus import stopwords\n",
    "stop = set(stopwords.words('english'))\n",
    "# print(title_list)\n",
    "book = xlwt.Workbook() # create a new excel file\n",
    "sheet_test = book.add_sheet('common_titles') # add a new sheet\n",
    "i = 0\n",
    "sheet_test.write(i,0,'word') # write the header of the first column\n",
    "sheet_test.write(i,1,'count') # write the header of the second column\n",
    "        \n",
    "\n",
    "count_result =  Counter(title_list)\n",
    "\n",
    "for word,count in count_result.most_common(10):\n",
    "    i = i+1 \n",
    "    sheet_test.write(i,0,word)\n",
    "    sheet_test.write(i,1,count)\n",
    "    print(word,count)\n",
    "        \n",
    "book.save('title_count.xls')"
   ]
  },
  {
   "cell_type": "markdown",
   "metadata": {},
   "source": [
    "The most common Job Title was \"Intelligence Analyst\" which had 13 entries."
   ]
  },
  {
   "cell_type": "markdown",
   "metadata": {},
   "source": [
    "<img src=\"common_jobs.png\">"
   ]
  },
  {
   "cell_type": "markdown",
   "metadata": {},
   "source": [
    "# Q 2.2: Which company posted the most number of jobs?"
   ]
  },
  {
   "cell_type": "code",
   "execution_count": 5,
   "metadata": {},
   "outputs": [],
   "source": [
    "%matplotlib inline\n",
    "import matplotlib.pyplot as plt"
   ]
  },
  {
   "cell_type": "code",
   "execution_count": 6,
   "metadata": {},
   "outputs": [
    {
     "name": "stdout",
     "output_type": "stream",
     "text": [
      "NC4 1\n",
      "Perspecta 1\n",
      "Northrop Grumman 1\n",
      "Renaissance Associates 1\n",
      "LookingGlass Cyber Solutions 1\n",
      "BAE Systems 1\n",
      "CACI 1\n",
      "United States Army 1\n",
      "Lockheed Martin Corporation 1\n",
      "Hilton Corporate 1\n",
      "Everis USA 1\n",
      "Leidos 1\n",
      "Securitas Security Services USA 1\n",
      "AT&T 1\n",
      "The MIL Corporation 1\n",
      "Datavision Technologies 1\n",
      "City of St. Petersburg 1\n",
      "Advanced Decision Vectors 1\n",
      "BWM Outcomes 1\n",
      "GDIT 1\n"
     ]
    }
   ],
   "source": [
    "count_result =  Counter(company_list)\n",
    "for word,count in count_result.most_common():\n",
    "    print (word,count)"
   ]
  },
  {
   "cell_type": "markdown",
   "metadata": {},
   "source": [
    "There were no companies that posted more than one job."
   ]
  },
  {
   "cell_type": "code",
   "execution_count": 7,
   "metadata": {},
   "outputs": [
    {
     "data": {
      "image/png": "[encoded data removed]",
      "text/plain": [
       "<Figure size 432x288 with 1 Axes>"
      ]
     },
     "metadata": {},
     "output_type": "display_data"
    }
   ],
   "source": [
    "from collections import Counter\n",
    "result=Counter(company_list)\n",
    "\n",
    "\n",
    "plt.pie(result.values(),labels=result.keys())\n",
    "plt.show()"
   ]
  },
  {
   "cell_type": "markdown",
   "metadata": {},
   "source": [
    "# Q 2.3: How do the number of job posts vary by day?"
   ]
  },
  {
   "cell_type": "code",
   "execution_count": 8,
   "metadata": {},
   "outputs": [
    {
     "data": {
      "text/html": [
       "<div>\n",
       "<style scoped>\n",
       "    .dataframe tbody tr th:only-of-type {\n",
       "        vertical-align: middle;\n",
       "    }\n",
       "\n",
       "    .dataframe tbody tr th {\n",
       "        vertical-align: top;\n",
       "    }\n",
       "\n",
       "    .dataframe thead th {\n",
       "        text-align: right;\n",
       "    }\n",
       "</style>\n",
       "<table border=\"1\" class=\"dataframe\">\n",
       "  <thead>\n",
       "    <tr style=\"text-align: right;\">\n",
       "      <th></th>\n",
       "      <th>Job title</th>\n",
       "      <th>Company name</th>\n",
       "      <th>Posted date</th>\n",
       "      <th>Job Location</th>\n",
       "      <th>Minimal Salary</th>\n",
       "      <th>Job duties</th>\n",
       "      <th>Required Skills</th>\n",
       "      <th>Minimal year of experience</th>\n",
       "      <th>Minimal Education</th>\n",
       "      <th>Job URL</th>\n",
       "    </tr>\n",
       "  </thead>\n",
       "  <tbody>\n",
       "    <tr>\n",
       "      <th>0</th>\n",
       "      <td>Intelligence Analyst</td>\n",
       "      <td>NC4</td>\n",
       "      <td>2018-11-17</td>\n",
       "      <td>California</td>\n",
       "      <td>40111</td>\n",
       "      <td>Monitor open source domestic/global real-time ...</td>\n",
       "      <td>Bachelor’s Degree or High School Diploma and a...</td>\n",
       "      <td>5</td>\n",
       "      <td>Bachelors</td>\n",
       "      <td>https://www.indeed.com/viewjob?jk=1e84f20a6275...</td>\n",
       "    </tr>\n",
       "    <tr>\n",
       "      <th>1</th>\n",
       "      <td>Intelligence Analyst</td>\n",
       "      <td>Perspecta</td>\n",
       "      <td>2018-11-21</td>\n",
       "      <td>Virginia</td>\n",
       "      <td>60000</td>\n",
       "      <td>Perspecta is seeking an experienced Intelligen...</td>\n",
       "      <td>TS/SCI clearance with polygraph, Demonstrated ...</td>\n",
       "      <td>5</td>\n",
       "      <td>Bachelors</td>\n",
       "      <td>https://www.indeed.com/viewjob?jk=2c184ff52525...</td>\n",
       "    </tr>\n",
       "    <tr>\n",
       "      <th>2</th>\n",
       "      <td>Intelligence Analyst</td>\n",
       "      <td>Northrop Grumman</td>\n",
       "      <td>2018-12-12</td>\n",
       "      <td>Virginia</td>\n",
       "      <td>65576</td>\n",
       "      <td>The Intelligence Analyst 2 will be responsible...</td>\n",
       "      <td>Excellent verbal and written communications sk...</td>\n",
       "      <td>2</td>\n",
       "      <td>Bachelors</td>\n",
       "      <td>https://www.indeed.com/viewjob?jk=cbafe87f9b8a...</td>\n",
       "    </tr>\n",
       "    <tr>\n",
       "      <th>3</th>\n",
       "      <td>Intelligence Analyst</td>\n",
       "      <td>Renaissance Associates</td>\n",
       "      <td>2018-12-16</td>\n",
       "      <td>New Jersey</td>\n",
       "      <td>50000</td>\n",
       "      <td>analyst conducting background investigations a...</td>\n",
       "      <td>Experience as an analyst supporting due dilige...</td>\n",
       "      <td>2</td>\n",
       "      <td>Bachelors</td>\n",
       "      <td>https://www.indeed.com/viewjob?jk=688af3156d89...</td>\n",
       "    </tr>\n",
       "    <tr>\n",
       "      <th>4</th>\n",
       "      <td>Legal Intelligence Analyst</td>\n",
       "      <td>LookingGlass Cyber Solutions</td>\n",
       "      <td>2019-03-15</td>\n",
       "      <td>Virginia</td>\n",
       "      <td>52000</td>\n",
       "      <td>Learn and employ LookingGlass patented technol...</td>\n",
       "      <td>MUST HAVE a legal background. A Juris Doctor i...</td>\n",
       "      <td>8</td>\n",
       "      <td>Doctorate</td>\n",
       "      <td>https://www.indeed.com/viewjob?jk=fa88a51c8c36...</td>\n",
       "    </tr>\n",
       "    <tr>\n",
       "      <th>5</th>\n",
       "      <td>Intelligence Analyst</td>\n",
       "      <td>BAE Systems</td>\n",
       "      <td>2019-03-17</td>\n",
       "      <td>Virginia</td>\n",
       "      <td>72500</td>\n",
       "      <td>Work a rotating shift schedule (typically 7am ...</td>\n",
       "      <td>Understanding the basic intelligence cycle/pro...</td>\n",
       "      <td>4</td>\n",
       "      <td>Bachelors</td>\n",
       "      <td>https://www.indeed.com/viewjob?jk=b9759d73a7d3...</td>\n",
       "    </tr>\n",
       "    <tr>\n",
       "      <th>6</th>\n",
       "      <td>Intelligence Analyst</td>\n",
       "      <td>CACI</td>\n",
       "      <td>2019-04-04</td>\n",
       "      <td>Virginia</td>\n",
       "      <td>73000</td>\n",
       "      <td>While deployed, you will embed with warfighter...</td>\n",
       "      <td>Current Top Secret/Specialized Compartmented I...</td>\n",
       "      <td>5</td>\n",
       "      <td>Associates</td>\n",
       "      <td>https://www.indeed.com/viewjob?jk=300d2501a656...</td>\n",
       "    </tr>\n",
       "    <tr>\n",
       "      <th>7</th>\n",
       "      <td>Intelligence Analyst</td>\n",
       "      <td>United States Army</td>\n",
       "      <td>2019-04-04</td>\n",
       "      <td>Virginia</td>\n",
       "      <td>20000</td>\n",
       "      <td>Prepare all-source intelligence products to su...</td>\n",
       "      <td>Those who want to serve must first take the Ar...</td>\n",
       "      <td>0</td>\n",
       "      <td>GED</td>\n",
       "      <td>https://www.indeed.com/viewjob?jk=46a6a75899ad...</td>\n",
       "    </tr>\n",
       "    <tr>\n",
       "      <th>8</th>\n",
       "      <td>Intelligence Analyst</td>\n",
       "      <td>Lockheed Martin Corporation</td>\n",
       "      <td>2019-04-10</td>\n",
       "      <td>Colorado</td>\n",
       "      <td>62665</td>\n",
       "      <td>You will utilize sophisticated analog and digi...</td>\n",
       "      <td>Basic understanding of how to characterize sig...</td>\n",
       "      <td>4</td>\n",
       "      <td>Bachelors</td>\n",
       "      <td>https://www.indeed.com/viewjob?jk=f5ce0d312016...</td>\n",
       "    </tr>\n",
       "    <tr>\n",
       "      <th>9</th>\n",
       "      <td>Threat Intelligence Analyst</td>\n",
       "      <td>Hilton Corporate</td>\n",
       "      <td>2019-04-11</td>\n",
       "      <td>Virginia</td>\n",
       "      <td>69000</td>\n",
       "      <td>As the Threat Intelligence Analyst for Inciden...</td>\n",
       "      <td>Commitment to learning with an aptitude for qu...</td>\n",
       "      <td>1</td>\n",
       "      <td>Bachelors</td>\n",
       "      <td>https://www.indeed.com/viewjob?jk=92ea12954f4a...</td>\n",
       "    </tr>\n",
       "  </tbody>\n",
       "</table>\n",
       "</div>"
      ],
      "text/plain": [
       "                     Job title                  Company name Posted date  \\\n",
       "0         Intelligence Analyst                           NC4  2018-11-17   \n",
       "1         Intelligence Analyst                     Perspecta  2018-11-21   \n",
       "2         Intelligence Analyst              Northrop Grumman  2018-12-12   \n",
       "3         Intelligence Analyst        Renaissance Associates  2018-12-16   \n",
       "4   Legal Intelligence Analyst  LookingGlass Cyber Solutions  2019-03-15   \n",
       "5         Intelligence Analyst                   BAE Systems  2019-03-17   \n",
       "6         Intelligence Analyst                          CACI  2019-04-04   \n",
       "7         Intelligence Analyst            United States Army  2019-04-04   \n",
       "8         Intelligence Analyst   Lockheed Martin Corporation  2019-04-10   \n",
       "9  Threat Intelligence Analyst              Hilton Corporate  2019-04-11   \n",
       "\n",
       "  Job Location  Minimal Salary  \\\n",
       "0   California           40111   \n",
       "1     Virginia           60000   \n",
       "2     Virginia           65576   \n",
       "3   New Jersey           50000   \n",
       "4     Virginia           52000   \n",
       "5     Virginia           72500   \n",
       "6     Virginia           73000   \n",
       "7     Virginia           20000   \n",
       "8     Colorado           62665   \n",
       "9     Virginia           69000   \n",
       "\n",
       "                                          Job duties  \\\n",
       "0  Monitor open source domestic/global real-time ...   \n",
       "1  Perspecta is seeking an experienced Intelligen...   \n",
       "2  The Intelligence Analyst 2 will be responsible...   \n",
       "3  analyst conducting background investigations a...   \n",
       "4  Learn and employ LookingGlass patented technol...   \n",
       "5  Work a rotating shift schedule (typically 7am ...   \n",
       "6  While deployed, you will embed with warfighter...   \n",
       "7  Prepare all-source intelligence products to su...   \n",
       "8  You will utilize sophisticated analog and digi...   \n",
       "9  As the Threat Intelligence Analyst for Inciden...   \n",
       "\n",
       "                                     Required Skills  \\\n",
       "0  Bachelor’s Degree or High School Diploma and a...   \n",
       "1  TS/SCI clearance with polygraph, Demonstrated ...   \n",
       "2  Excellent verbal and written communications sk...   \n",
       "3  Experience as an analyst supporting due dilige...   \n",
       "4  MUST HAVE a legal background. A Juris Doctor i...   \n",
       "5  Understanding the basic intelligence cycle/pro...   \n",
       "6  Current Top Secret/Specialized Compartmented I...   \n",
       "7  Those who want to serve must first take the Ar...   \n",
       "8  Basic understanding of how to characterize sig...   \n",
       "9  Commitment to learning with an aptitude for qu...   \n",
       "\n",
       "   Minimal year of experience Minimal Education  \\\n",
       "0                           5         Bachelors   \n",
       "1                           5         Bachelors   \n",
       "2                           2         Bachelors   \n",
       "3                           2         Bachelors   \n",
       "4                           8         Doctorate   \n",
       "5                           4         Bachelors   \n",
       "6                           5        Associates   \n",
       "7                           0               GED   \n",
       "8                           4         Bachelors   \n",
       "9                           1         Bachelors   \n",
       "\n",
       "                                             Job URL  \n",
       "0  https://www.indeed.com/viewjob?jk=1e84f20a6275...  \n",
       "1  https://www.indeed.com/viewjob?jk=2c184ff52525...  \n",
       "2  https://www.indeed.com/viewjob?jk=cbafe87f9b8a...  \n",
       "3  https://www.indeed.com/viewjob?jk=688af3156d89...  \n",
       "4  https://www.indeed.com/viewjob?jk=fa88a51c8c36...  \n",
       "5  https://www.indeed.com/viewjob?jk=b9759d73a7d3...  \n",
       "6  https://www.indeed.com/viewjob?jk=300d2501a656...  \n",
       "7  https://www.indeed.com/viewjob?jk=46a6a75899ad...  \n",
       "8  https://www.indeed.com/viewjob?jk=f5ce0d312016...  \n",
       "9  https://www.indeed.com/viewjob?jk=92ea12954f4a...  "
      ]
     },
     "execution_count": 8,
     "metadata": {},
     "output_type": "execute_result"
    }
   ],
   "source": [
    "import pandas\n",
    "df= pandas.read_excel(\"IA_jobs.xlsx\")\n",
    "df[:10]"
   ]
  },
  {
   "cell_type": "code",
   "execution_count": 9,
   "metadata": {},
   "outputs": [
    {
     "name": "stdout",
     "output_type": "stream",
     "text": [
      "Counter({Timestamp('2019-04-16 00:00:00'): 5, Timestamp('2019-04-11 00:00:00'): 3, Timestamp('2019-04-04 00:00:00'): 2, Timestamp('2018-11-17 00:00:00'): 1, Timestamp('2018-11-21 00:00:00'): 1, Timestamp('2018-12-12 00:00:00'): 1, Timestamp('2018-12-16 00:00:00'): 1, Timestamp('2019-03-15 00:00:00'): 1, Timestamp('2019-03-17 00:00:00'): 1, Timestamp('2019-04-10 00:00:00'): 1, Timestamp('2019-04-12 00:00:00'): 1, Timestamp('2019-04-13 00:00:00'): 1, Timestamp('2019-04-15 00:00:00'): 1})\n"
     ]
    }
   ],
   "source": [
    "from collections import Counter\n",
    "\n",
    "result = Counter(df['Posted date'])\n",
    "\n",
    "print (result)"
   ]
  },
  {
   "cell_type": "code",
   "execution_count": 10,
   "metadata": {},
   "outputs": [
    {
     "data": {
      "image/png": "[encoded data removed]",
      "text/plain": [
       "<Figure size 1080x216 with 1 Axes>"
      ]
     },
     "metadata": {},
     "output_type": "display_data"
    }
   ],
   "source": [
    "%matplotlib inline\n",
    "import matplotlib.pyplot as plt\n",
    "\n",
    "from matplotlib.pyplot import figure\n",
    "figure(figsize=(15,3))\n",
    "\n",
    "plt.plot(result.keys(),result.values())\n",
    "plt.show()"
   ]
  },
  {
   "cell_type": "markdown",
   "metadata": {},
   "source": [
    "# Q 2.4: Where are the jobs located?"
   ]
  },
  {
   "cell_type": "code",
   "execution_count": 11,
   "metadata": {},
   "outputs": [
    {
     "data": {
      "image/png": "[encoded data removed]",
      "text/plain": [
       "<Figure size 432x288 with 1 Axes>"
      ]
     },
     "metadata": {},
     "output_type": "display_data"
    }
   ],
   "source": [
    "from collections import Counter\n",
    "result=Counter(location_list)\n",
    "\n",
    "\n",
    "plt.pie(result.values(),labels=result.keys())\n",
    "plt.show()"
   ]
  },
  {
   "cell_type": "markdown",
   "metadata": {},
   "source": [
    "A majority of the jobs are in Virginia."
   ]
  },
  {
   "cell_type": "markdown",
   "metadata": {},
   "source": [
    "# Q 2.5: What is the average minimal salary?"
   ]
  },
  {
   "cell_type": "code",
   "execution_count": 12,
   "metadata": {},
   "outputs": [],
   "source": [
    "import numpy as np"
   ]
  },
  {
   "cell_type": "code",
   "execution_count": 13,
   "metadata": {},
   "outputs": [
    {
     "name": "stdout",
     "output_type": "stream",
     "text": [
      "the mean salary is 58102.0 \n"
     ]
    }
   ],
   "source": [
    "print(\"the mean {} is {} \".format('salary',np.mean(salary)))"
   ]
  },
  {
   "cell_type": "markdown",
   "metadata": {},
   "source": [
    "The average salary is 75,000."
   ]
  },
  {
   "cell_type": "markdown",
   "metadata": {},
   "source": [
    "# Q 2.6: What is the average minimal years of experience?"
   ]
  },
  {
   "cell_type": "code",
   "execution_count": 14,
   "metadata": {},
   "outputs": [
    {
     "name": "stdout",
     "output_type": "stream",
     "text": [
      "the mean number of years of experience is 4.2 \n"
     ]
    }
   ],
   "source": [
    "print(\"the mean number of {} is {} \".format('years of experience',np.mean(experience_list)))"
   ]
  },
  {
   "cell_type": "markdown",
   "metadata": {},
   "source": [
    "The average number of years of experience required is 4.2."
   ]
  },
  {
   "cell_type": "markdown",
   "metadata": {},
   "source": [
    "# Q 2.7: How is the minimum years of expereince related to salary?"
   ]
  },
  {
   "cell_type": "code",
   "execution_count": 15,
   "metadata": {},
   "outputs": [
    {
     "name": "stdout",
     "output_type": "stream",
     "text": [
      "the correlation between minimum years of experience and salary is 0.3434770654613578\n"
     ]
    }
   ],
   "source": [
    "print(\"the correlation between minimum years of experience and salary is {}\".format(np.corrcoef(experience_list,salary_list)[0][1]))"
   ]
  },
  {
   "cell_type": "markdown",
   "metadata": {},
   "source": [
    "These two variables have a moderate correlation, but the scatter plot shows many outliers."
   ]
  },
  {
   "cell_type": "code",
   "execution_count": 16,
   "metadata": {},
   "outputs": [
    {
     "data": {
      "image/png": "[encoded data removed]",
      "text/plain": [
       "<Figure size 432x288 with 1 Axes>"
      ]
     },
     "metadata": {},
     "output_type": "display_data"
    }
   ],
   "source": [
    "plt.scatter(experience_list,salary_list)\n",
    "plt.show()"
   ]
  },
  {
   "cell_type": "markdown",
   "metadata": {},
   "source": [
    "# Q 2.8: What are the common job duties?"
   ]
  },
  {
   "cell_type": "code",
   "execution_count": 21,
   "metadata": {},
   "outputs": [
    {
     "name": "stdout",
     "output_type": "stream",
     "text": [
      "Search, review, segregate and analyze any and all records of interrogations, interviews, statements, and other evidence either provided by or obtained from, e.g.: research or investigation; current and former detainees held by U.S. or coalition forces; investigations conducted outside of the Commissions cases; and discovery, Serve on a privileged basis to counsel litigating military commission cases (i.e., maintain, preserve, and protect attorney work product privilege)Assess the foreign intelligence, international terrorist, and technological collection threats directed against DOE personnel, resources, S&T, facilities and programs, Produce CI products for circulation within DOE, and for external dissemination throughout the USIC, Develops liaison contacts within the USIC to further research and analytical objectives and goals of the Program, Works with the Program Director to contribute to the integration of field and headquarters analysis, Makes oral presentations, which convey ideas, facts, conclusions, estimates, and projections to a variety of DOE and USIC personnel, Prepares a variety of written communications and documents, including but not limited to reports, national security studies, and policy recommendations at the direction of the CI managementIdentify, quantify, analyze, and map data issues involving Office of Security (OSY) investigative activities, including performing vetting and validation of data as necessary, Assist OSY staff with basic, sensitive, and complex research and analysis, Perform and document various specified or authorized records checks, request authorized information from internal and external sources, and analyze and integrate resulting data..This is professional and technical work conducting detailed research and analysis of confidential intelligence and investigative information relating to criminal activity in order to assist and enhance the effectiveness of law enforcement. Work may include investigating confidential intelligence information such as financial transactions and related business records; compiling, analyzing and disseminating criminal activity information (in the form of bulletins, intelligence reports,etc); coordinating the exchange of interstate and intrastate information pertaining to criminal activity, syndicated criminal movement and terrorism related incidents; and preparing written reports requiring thorough analysis and evaluation of intelligence and investigative information. Work requires intricate knowledge of social media; usage of multiple law enforcement databases; the collection of data from other government sources; and the ability to manipulate large quantities of raw data via spreadsheets or database creation. Work includes providing information to assist operations personnel in the identification of specific crime problems (crime patterns/sprees/series) and suspect leads; forecasting future crime occurrences; developing target profile analyses; furnishing support data to community policing and crime prevention programs; and providing data to support departmental planning activities, deployment planning, resource allocation, and budgeting activities. Work also involves examining existing incident characteristics; identifying modus operandi; and identifying pre-incident indicators and characteristics. Work demands a high level of personal and professional integrity and tenacity to perform complex analysis that assists sensitive and often urgent investigations.Since we are a smaller company, your role will have high visibility within the company as well as with customers. You will be actively working with your team members from different divisions in the company (analysts, developers) and with customers. The work you do will be directly viewed by customers, so attention to detail is very important as well as the ability to juggle multiple ongoing projects without dropping the ball. A typical day might involve working with one customer to reload missing data or troubleshoot their data, helping another customer designing a report, training a third customer over the phone on how to build reports and a delivering a completed dashboard to a fourth customer. Another typical day might just involve putting on your headphones and working on a single project all day.Provision user accounts and update security controls for the Department’s financial systems, Reconcile user access with documented request forms, Analyze and maintain supporting documentation for separation of duties, Monitor financial systems daily and respond to security or usability issues (Helpdesk Support), Perform annual account certification of security access, Perform logging and monitoring of security access. Provide customer service to agency user community related to systems security, Review application log, Assist in preparation of required data for the annual IT auditThe successful candidate must be a highly motivated individual with strong analytical skills. The candidate should be self-directed and demonstrate a high degree of creativity in problem solving. Ability to perform data analysis on large datasets is highly desirable. Position performs non-supervisory assignments in support of customer contract and associated deliverables. Will respond to legally compelled requests to ensure quality, accuracy and compliance. Participates in training awareness meetings to gain knowledge and skills in the latest tools and techniques necessary to meet all program deliverables. Comply and be in accordance with all legal and contractual requirements. Job requires the ability to analyze and resolve complex issues where events and situations require in-depth data analysis. Provide detailed reports or presentations with recommendations derived from analysis of customer requested inquiries. Job requires the exercise of good judgment within defined procedures and practices to determine appropriate action. The level of knowledge about programs, concepts, product or customer identity will require incumbents to undergo extensive background investigations to be assigned or hold positions in highly classified programs. Job environment is extremely stressful and requires that deadlines be adhered to at all times without exception. The candidate will be working in an environment where team members will share available 24/7 time. Maintaining composure in dealing with executives, clients and staff in individual and group settings and situations requiring high performance results, May be exposed to stressful situations, Handling and being exposed to sensitive and confidential information, Required ability to handle multiple tasks concurrently, Regular talking and hearing, May be required to work overtime without advance notice, Seeing, hearing, speaking, and writing clearly in order to communicate with client employees and visitors, observe and report incidents, and direct othersLeidos is a leader in fulfilling Intelligence Community counterterrorism requirements. We have an exciting opportunity for an Entry-Level All- Source analyst to join a team of professionals in the Northern VA area. We are seeking experienced candidates with active TS/SCI with polygraphs who are able to work alongside IC and military experts. The selected candidate will be responsible for supporting executive level officials with drafting reports, editing high-level reports, and writing short and succinct papers in support of the customer. The All-Source analyst will assist team members with formatting and publishing daily publications.Regularly produce Threat Intelligence Reports, providing detailed analysis on cyber events, including relevant political, economic and geopolitical variables, Provide a forward-looking view of the threat, predicting shifts in adversarial intent, goals and strategic objectives, Act as a subject matter expert for an allocated geographic and/or thematic area, closely following open source and closed intelligence source reporting on associated actor groups (nation-state, criminal, hacktivist and terrorist), incidents and campaigns, Maintain detailed threat actor profiles on adversaries of interest/relevance to the firm, covering tactics, techniques and procedures, intent, goals and strategic objectives, Maintain knowledge of the threat landscape by monitoring open and closed intelligence sources and contribute to quarterly threat landscape briefings, Identify, develop, manage and productively leverage external relationships to enhance intelligence collection efforts, Provide regular written and verbal briefings and presentations for Global Cybersecurity partners and Lines of Businesses up to the senior executive levelAs the Threat Intelligence Analyst for Incident Response, you will be essential in preparing for, responding to, and remediating information security incidents to ensure anomalous and unauthorized activity is addressed with expediency to protect the Company's information assets and reduce interruptions to business processes as well as conducting investigations into cyber related activities on networks, computers, and servers. You will utilize sophisticated analog and digital signal processing and associated equipment, and may conduct search and/or exploitation of data from various sources to prepare operational or technical reports, both written and oral and conduct training in one or more areas of specialization.Prepare all-source intelligence products to support the combat commander, Assess the significance and reliability of incoming information with current intelligence, Establish and maintain systematic, cross-reference intelligence records and filesWhile deployed, you will embed with warfighters to assist operational and tactical commanders, their staffs and subordinate units with fusing operations and intelligence information to enhance their effectiveness against threat networks. You will identify and analyze problems, and generate recommended solutions based upon experience working with elements of the DOD, interagency and international partners. Most deployments are 120-180 days in length.Work a rotating shift schedule (typically 7am to 7pm or 7pm to 7am and is subject to change at any time by the customer), alternating days and nights each month which will include weekends and holidays., Input data accurately, timely exploit FMV collected by sensors on ISR platforms, apply HUMINT and SIGINT information to FMV imagery analysis, and use an electronic light table to exploit NTM imagery in softcopy., Produce imagery-derived graphic products and reports and publish for distribution., Compile intelligence materials for use in briefings to high-level government personnel.Learn and employ LookingGlass patented technology to identify relevant intelligence collected from the Internet;, Analyze the intelligence identified by LookingGlass technology, based on client-specific criteria, to assemble relevant findings and analysis, Assist in customer care and all production aspects covering the range of assigned duties. Support and/or lead recurring deliverables and touchpoints (ad hoc/daily/weekly/monthly/quarterly and/or annual):, Leverage legal experience to make recommendations to clients and assist in making policy suggestions for internal and external users;, Dedication and willingness to provide support in response to ad hoc threats and periods of increased risk. This may entail on occasion:, Proactive professional development through company trainings, industry certifications and seeking new opportunities to maintain and grow relevant knowledge and skillsets; Support collection enhancement with ongoing and proactive collaboration with Collection Management and the 24x7 Cyber Security Center staff; Identify and communicate improvements to the client delivery process and department productivity.analyst conducting background investigations and public records researchThe Intelligence Analyst 2 will be responsible for providing direct analytic support to a customer team. Building excellent rapport within our teams and with our customers is critical to our success and contributes to our customers' success. We continually look to identify talented, mission-focused analysts with skills in several areasPerspecta is seeking an experienced Intelligence Analyst to join a unique team at the forefront of defining and delivering the next generation of intelligence community solutions directly into operational organizations. Duties include monitoring and reporting of technical systems, operations, and capabilities and supporting diverse activities addressing hard targets. This position requires strong organizational skills, attention to detail, and demonstrated experience developing and implementing plans, strategies, and approaches supporting targeting activities. The successful candidate will have a strong background in technical collection and experience leading and facilitating cross-IC collaboration events.Monitor open source domestic/global real-time all-hazard incidents; analyze potential threats and risks and disseminate error free reports to customers, Operate independently and make decisions regarding all aspects of incident reporting in a timely manner, Implement operational processes and procedures; demonstrate advanced analytical and research skills, and display good judgement and discretion in reporting, Manage customer inquiries and interactions in an effective and professional manner, Escalate issues in a time-sensitive manner to the appropriate parties, Maintain consistent and punctual attendance, demonstrate scheduling flexibility to meet operational needs, Understand company’s mission, how our work impacts customers, and model the company principles\n"
     ]
    }
   ],
   "source": [
    "duties= ''\n",
    "for duty in df['Job duties']:\n",
    "    duties= duty + duties\n",
    "print (duties)"
   ]
  },
  {
   "cell_type": "code",
   "execution_count": 31,
   "metadata": {},
   "outputs": [],
   "source": [
    "import xlwt        \n",
    "\n",
    "from collections import Counter        \n",
    "\n",
    "from nltk.corpus import stopwords\n",
    "\n",
    "stop = set(stopwords.words('english'))\n",
    "\n",
    "book = xlwt.Workbook() # create a new excel file\n",
    "\n",
    "sheet_test = book.add_sheet('word_count') # add a new sheet\n",
    "\n",
    "i = 0\n",
    "\n",
    "sheet_test.write(i,0,'word') # write the header of the first column\n",
    "\n",
    "sheet_test.write(i,1,'count') # write the header of the second column\n",
    "\n",
    "word_list = [i for i in duties.lower().split() if i not in stop]\n",
    "\n",
    "word_total = word_list.__len__()\n",
    "\n",
    "count_result =  Counter(word_list)\n",
    "\n",
    "for result in count_result.most_common(20):\n",
    "\n",
    "    i = i+1 \n",
    "\n",
    "    sheet_test.write(i,0,result[0])\n",
    "\n",
    "    sheet_test.write(i,1,result[1])\n",
    "\n",
    "book.save('duties.xls')# define the location of your excel file"
   ]
  },
  {
   "cell_type": "code",
   "execution_count": 39,
   "metadata": {},
   "outputs": [
    {
     "name": "stdout",
     "output_type": "stream",
     "text": [
      "intelligence 19\n",
      "data 12\n",
      "work 11\n",
      "information 11\n",
      "customer 10\n",
      "support 9\n",
      "security 8\n",
      "assist 8\n",
      "analyze 7\n",
      "collection 6\n"
     ]
    }
   ],
   "source": [
    "count_result =  Counter(word_list)\n",
    "for word,count in count_result.most_common(10):\n",
    "    print (word,count)"
   ]
  },
  {
   "cell_type": "markdown",
   "metadata": {},
   "source": [
    "The most common job duty was \"intelligence.\" The second most common duty was \"data\" and the third most common was \"work.\""
   ]
  },
  {
   "cell_type": "markdown",
   "metadata": {},
   "source": [
    "<img src = 'duties image.png'>"
   ]
  },
  {
   "cell_type": "markdown",
   "metadata": {},
   "source": [
    "# Q 2.9: What are the common skilled required?"
   ]
  },
  {
   "cell_type": "code",
   "execution_count": 37,
   "metadata": {},
   "outputs": [
    {
     "name": "stdout",
     "output_type": "stream",
     "text": [
      "A core knowledge of basic analytical concepts and techniques, Ability to use established analytical tools and techniques to generate comprehensive products (e.g., reports, assessments, white papers, link charts, and briefings)Foreign language proficiency, written and spoken (such as Russian, Arabic, Farsi, Hindi, or related languages), is desirable, Must have a minimum of five (5) years of experience in intelligence analysis, which may be a combination of private sector, civil service, or military, Individual must have demonstrated evidence of excellent oral and written communication skills and proven performance delivering high-quality products under sometimes seemingly enormous pressure to meet tight deadlines, Extensive knowledge of CI tradecraft, analytic standards and integrity, methodology and tools is required, Knowledge of adversary methodologies and collection interests is also required, Special expertise, such as area or country specialization, foreign language fluency, emerging science and technology research is desired, The individual must demonstrate direct and current knowledge of the mission, structure, and key intelligence programs of the USIC, to include tactical analysis in support of predicating CI investigations, international political, economic, and military matters as they impact U.S. national security policy and issues, all aspects of the intelligence cycle, and must demonstrate core analytical competencies to include critical thinking skills, strong collaboration skills, and a customer focus to espouse counterintelligence issues with an analysis dimensionDevelop, implement and/or assist with suspense, workload, and caseload tracking, analysis, and coordination to ensure optimal time management and resource use; and assist with preparing performance metrics, Develop, coordinate, prepare and track internal and external correspondence, data calls and requests; draft memoranda and documents; and prepare and control other communication, including coordinating review by key stakeholders and dissemination; Create, review, and provide various reports and briefing materials; Communicate matters to personnel at all levels, and build and maintain organizational relationships to ensure awareness and effective messaging; Answer and screen telephone calls and electronic mail; manage calendars, schedules meetings, and assist with time and resource management tasks; and assist with compliance requirements; Demonstrate strong customer service skills, and work effectively both independently and as a team member; Establish and maintain records and files, including properly marking and disseminating materials in accordance with law, regulation and policy, and performing appropriate reductions in accordance with general records schedules; Perform other general office duties as assigned; Execute a nondisclosure agreement.Possess a valid Bachelor’s degree in criminology, criminal justice, or a related field, Possess and maintain a valid Driver License, Be able to organize, communicate and present clear, concise and factual oral and written reports and recommendations, Have considerable knowledge of data research methods, concepts, techniques, principles and practices, Have considerable knowledge of techniques of crime analysis, intelligence gathering, basic statistical methods/techniques and research methodology used in data collection and report presentation, Be proficient in the use of computer software such as Microsoft Office Suite, Adobe Acrobat and GIS applications (such as ESRI, ArcView, Autodesk MapGuide, Microsoft MapPoint, and Google Maps).Analytical and logical thinker, Ability to multitask and still perform at a high level, Advanced knowledge of Microsoft Excel - Macros, Pivot Tables, etc., Must be flexible and able to take on a wide range of tasks as they come with a positive can-do attitude., Attention to detail is a must, Possess the ability to work well as part of a team and independently., Strong written and verbal communication skills, Ability to use time productively, maximize efficiency, and meet challenging work goals, Ability to take on additional responsibilities as needed as well as determine and manage priorities with minimal guidance., Ability to develop and maintain documentation including policies, procedures, incident reports and knowledge base articles., Needs to be based in Ft Lauderdale areaMust be customer focused and possess the ability to identify issues, analyze, and interpret data and develop solutions to user problems, Must demonstrate a strong analytical, verbal, and written communication skill set to accurately document, report, and present findings, Must demonstrate strong interpersonal skills to effectively interface with all levels of employees, Experience working within a dynamic team environment, Must have the ability to adjust to the fast paced and high volume of work environment, Must be flexible as work requirements shift (on-call, work weekends, and extended hours)Candidate must have excellent verbal and written communication skills and proficiency with the following software: Word, Excel, PowerPoint, Penlink and Geotime. Must have a reliable means of communication (i.e., pager or phone), Must have a reliable means of transportation (public or private), Must have the legal right to work in the United States, Must have the ability to speak, read, and write English, Must have a High School Diploma or GED. If not, must be willing to complete the GED program within six months, Must be willing to participate in the Company’s pre-employment screening process, including drug screen and background investigation.Relevant exposure (for example: an internship with a government organization) to US foreign policy, national security CT objectives, and the interagency coordination process, Professional writing, editing, and sourcing skills are mandatory in order to be successful in the position, Ability to apply extensive knowledge of grammar, punctuation, and corporate writing standards in order to edit reports, Ability to work with national security classification procedures, Ability to handle multiple tasks and adjust to changing priorities as needed, Strong attention to details is required, Expert level experience working with Microsoft Office products: PowerPoint, Word, & Outlook, TS/SCI with Poly is requiredExcellent understanding of networking concepts and Information Security, including emerging threats and attack methodologies, Specialist training or skills in one or more of the following: Open Source Intelligence (OSINT) gathering and/or analysis, Social Media Intelligence (SMI/SOCMINT) gathering and/or analysis, Human Intelligence (HUMINT) analysis, Signals Intelligence (SIGINT) analysis, Subject matter expert in one or more of the following areas: regional geographic expertise, thematic (e.g. criminal groups) expertise, corporate intelligence, Significant and detailed threat actor knowledge, Knowledge of Transmission Control Protocol / Internet Protocol (TCP/IP) protocols, Knowledge of common malware and exploit tools/techniques.Commitment to learning with an aptitude for quickly grasping new technologies, issues, topics and advances in the cyber security field. This includes a commitment to adapting to new technologies and security controls on the fly., Expertise in cyber threat landscapes, including Advanced Persistent Threats, Cyber Crime and Hacktivism. This includes expertise in the tactics, techniques and procedures applied to a cyber-threat., Specialized skills in operating systems and enterprise platforms such as Windows, Linux/Unix, Mac OS, iOS, Android, Active Directory, .Net framework, Oracle business products and SAP, Good interpersonal, verbal, and written communication skills to successfully interact with clients, Qualitatively/quantitatively assessing security posture based on applied information, Ability to use MS Excel and other tools for statistical analysis purposesBasic understanding of how to characterize signal parameters, Ability to perform search functions on technical signals of interest, Ability to prepare reports in support of operational and technical sources.Those who want to serve must first take the Armed Services Vocational Aptitude Battery, a series of tests that helps you better understand your strengths and identify which Army jobs are best for you.Current Top Secret/Specialized Compartmented Information Security Clearance. More than one year of deployed Intelligence analysis experience within the CENTCOM AOR. You must also possess the ability to effectively communicate both orally and in writing. You should be able to provide daily feedback to the team lead on product development. Be deployable to the required theater of operations, usually conducting periodic travel within CONUS and six-month deployments to OCONUS locations. Willing to work rotating shifts if needed - that may include nights and weekends. Bachelor's degree and more than three years of experience, or an associates degree and five years of experience, or seven years of relevant work experience. We will also consider candidates with four years of directly relevant experience.Understanding the basic intelligence cycle/process, During high-tempo operations, can relay and articulate information, Can solve routine tasks of limited scope and complexity following standards of procedure, Basic working knowledge of the following software: MS Office including MS Word, MS Excel, and Power Point, Good analytical writing skills, Must be capable of typing 32 WPM without looking at the keyboard., Candidates must possess the ability to accurately discern red, green, blue, and yellow colors on a screenMUST HAVE a legal background. A Juris Doctor is not required but experience in the legal field (especially brand, trademark, ICANN dispute processes, and recent changes to cybersecurity laws) is preferred; Advise clients and internal Cyber Security Operation Center on various forum policies and legal grounds for fraudulent site takedowns. This includes an analysis of the reputational risks associated with potential fraudulent site takedowns; Relevant experience in the intelligence, technology, cyber-security fields; Adept in performing online research, OSINT or computer/database searching; Strong written and oral communications skills; comfortable with providing briefings and presentations both in person and online; High degree of experience with some of the following: Social Media Platforms, blogs, IRC, Deep/Darkweb, and message boards; Comfortable working/developing client relationships; Ability to collect, authenticate, validate and document online evidence; Proficient with at least one investigative tool, such as Whois, Ping, Traceroute, etc.; Proficient in MS Office programs; Highly proficient in MS Excel to analyze raw intelligence data to create and produce monthly reports which includes recent trends, high recidivist threat actors, key areas of concerns, and recommendations.Experience as an analyst supporting due diligence and business intelligence activities, Proven strong research skills driven by an inquisitive and skeptical mindset, Experience using a variety of public, commercial, or proprietary databases, such as Lexis and Thomson Reuters products, to locate business-related and personal information, The demonstrated ability to synthesize information from different sources to identify relationships of interest and gaps in knowledge, Strong critical thinking, oral and written communication skills are required, Candidates should be highly organized, detail-oriented, and should have the ability to prioritize and reprioritize job tasks independently. Candidates should also be comfortable working under very tight deadlines.Excellent verbal and written communications skills, Willingness and ability to adapt to changing customer mission requirements as necessary, Northrop Grumman is committed to hiring and retaining a diverse workforce.TS/SCI clearance with polygraph, Demonstrated expertise in one or more technical collection domains, Knowledge of customer databases and systems, Conceptual, quantitative, organizational, research, written and verbal communication, sound judgment, problem solving, and independent working skills, Interpersonal and teamwork skills to work with individuals and organizations, to include varying levels and types (Government, Industry, and Academia), Facilitation skills to bring diverse groups together on issues and reach consensus across stakeholders, The ability to perform complex analyses and to communicate the results using accurate, concise, and effective writing and through descriptive and graphical representations, Technical understanding of intelligence community requirements and contract-specific lines, Flexibility in assisting with ad hoc tasks and in adjusting as tasks are re-prioritized.Bachelor’s Degree or High School Diploma and a minimum of three years of work experience in the writing/research based/emergency management field, Superior written and verbal communication skills in English, Strong PC and internet research skills, Strong attention to detail and accuracy, Knowledge of and interest in world affairs, journalism, or related fields, Must have legal right to work in the US\n"
     ]
    }
   ],
   "source": [
    "skills =''\n",
    "for skill in df['Required Skills']:\n",
    "    skills = skill + skills\n",
    "print (skills)"
   ]
  },
  {
   "cell_type": "code",
   "execution_count": 49,
   "metadata": {},
   "outputs": [],
   "source": [
    "import xlwt        \n",
    "\n",
    "from collections import Counter        \n",
    "\n",
    "from nltk.corpus import stopwords\n",
    "\n",
    "stop = set(stopwords.words('english'))\n",
    "\n",
    "\n",
    "book = xlwt.Workbook() # create a new excel file\n",
    "\n",
    "sheet_test = book.add_sheet('word_count') # add a new sheet\n",
    "\n",
    "i = 0\n",
    "\n",
    "sheet_test.write(i,0,'word') # write the header of the first column\n",
    "\n",
    "sheet_test.write(i,1,'count') # write the header of the second column\n",
    "\n",
    "common_list = [i for i in skills.lower().split() if i not in stop]\n",
    "\n",
    "word_total = common_list.__len__()\n",
    "\n",
    "count_result =  Counter(common_list)\n",
    "\n",
    "for result in count_result.most_common(20):\n",
    "\n",
    "    i = i+1 \n",
    "\n",
    "    sheet_test.write(i,0,result[0])\n",
    "\n",
    "    sheet_test.write(i,1,result[1])\n",
    "\n",
    "book.save('skills.xls')# define the location of your excel file"
   ]
  },
  {
   "cell_type": "code",
   "execution_count": 50,
   "metadata": {},
   "outputs": [
    {
     "name": "stdout",
     "output_type": "stream",
     "text": [
      "ability 22\n",
      "must 22\n",
      "knowledge 14\n",
      "intelligence 13\n",
      "work 13\n",
      "written 12\n",
      "skills 12\n",
      "strong 11\n",
      "experience 9\n",
      "communication 8\n"
     ]
    }
   ],
   "source": [
    "count_result =  Counter(common_list)\n",
    "for word,count in count_result.most_common(10):\n",
    "    print (word,count)"
   ]
  },
  {
   "cell_type": "markdown",
   "metadata": {},
   "source": [
    "The most common skill was \"ability.\" The second most common word in skills was \"must\" and the third was \"knowledge.\" "
   ]
  },
  {
   "cell_type": "markdown",
   "metadata": {},
   "source": [
    "<img src = 'skills image.png'>"
   ]
  },
  {
   "cell_type": "markdown",
   "metadata": {},
   "source": [
    "# Conclusion"
   ]
  },
  {
   "cell_type": "markdown",
   "metadata": {},
   "source": [
    "Our research should help us better understand what is expected of an intelligence analyst in their career field. We experienced two major limitations during our analysis. First, we learned that in order to display our job posts by date, they needed to be in chronological order. We were unable to perform this action in Jupyter Notebook so we had to return to our Excel file to sort them. Second, when analyzing common job skills, \"must\" appeared as our second most common skill. Must is a word that we would have expected to be removed by the stop words but it was not. "
   ]
  },
  {
   "cell_type": "markdown",
   "metadata": {},
   "source": [
    "In the future, we would suggest using more than 20 job posts in the data set or placing more guidlines on finding jobs so that there is a wide variety of job posts, locations, and other variables."
   ]
  }
 ],
 "metadata": {
  "kernelspec": {
   "display_name": "Python 3",
   "language": "python",
   "name": "python3"
  },
  "language_info": {
   "codemirror_mode": {
    "name": "ipython",
    "version": 3
   },
   "file_extension": ".py",
   "mimetype": "text/x-python",
   "name": "python",
   "nbconvert_exporter": "python",
   "pygments_lexer": "ipython3",
   "version": "3.6.5"
  }
 },
 "nbformat": 4,
 "nbformat_minor": 2
}
